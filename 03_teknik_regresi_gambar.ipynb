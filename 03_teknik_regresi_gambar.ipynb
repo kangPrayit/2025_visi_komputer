{
  "nbformat": 4,
  "nbformat_minor": 0,
  "metadata": {
    "colab": {
      "provenance": [],
      "authorship_tag": "ABX9TyO5iw0oPVPQYM31CeqhGfro",
      "include_colab_link": true
    },
    "kernelspec": {
      "name": "python3",
      "display_name": "Python 3"
    },
    "language_info": {
      "name": "python"
    }
  },
  "cells": [
    {
      "cell_type": "markdown",
      "metadata": {
        "id": "view-in-github",
        "colab_type": "text"
      },
      "source": [
        "<a href=\"https://colab.research.google.com/github/kangPrayit/2025_visi_komputer/blob/main/03_teknik_regresi_gambar.ipynb\" target=\"_parent\"><img src=\"https://colab.research.google.com/assets/colab-badge.svg\" alt=\"Open In Colab\"/></a>"
      ]
    },
    {
      "cell_type": "markdown",
      "source": [
        "# Teknik Regresi Gambar"
      ],
      "metadata": {
        "id": "6sFsM98IYV7d"
      }
    },
    {
      "cell_type": "code",
      "execution_count": null,
      "metadata": {
        "id": "OIrd_oPGYRtr"
      },
      "outputs": [],
      "source": []
    }
  ]
}